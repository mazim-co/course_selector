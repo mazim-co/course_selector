{
 "cells": [
  {
   "cell_type": "code",
   "execution_count": 1,
   "metadata": {},
   "outputs": [],
   "source": [
    "# Load Base libraries\n",
    "import pandas as pd\n",
    "import numpy as np\n",
    "import math\n",
    "import datetime\n",
    "import warnings\n",
    "warnings.filterwarnings('ignore')\n",
    "warnings.filterwarnings(\"ignore\", message=\"numpy.ufunc size changed\")\n",
    "pd.set_option('display.max_columns', None)"
   ]
  },
  {
   "cell_type": "code",
   "execution_count": 2,
   "metadata": {},
   "outputs": [
    {
     "name": "stdin",
     "output_type": "stream",
     "text": [
      " ···········\n"
     ]
    }
   ],
   "source": [
    "# Access mysql database\n",
    "import pymysql\n",
    "from sqlalchemy import create_engine\n",
    "import getpass  # To get the password without showing the input\n",
    "password = getpass.getpass()"
   ]
  },
  {
   "cell_type": "code",
   "execution_count": 3,
   "metadata": {},
   "outputs": [],
   "source": [
    "# establish conncetion and engine\n",
    "connection_string = 'mysql+pymysql://root:' + password + '@localhost/clz'\n",
    "engine = create_engine(connection_string)"
   ]
  },
  {
   "cell_type": "code",
   "execution_count": 4,
   "metadata": {},
   "outputs": [],
   "source": [
    "# load data and assign to variable\n",
    "df_course = pd.read_sql_query('SELECT * FROM course', engine)"
   ]
  },
  {
   "cell_type": "code",
   "execution_count": 5,
   "metadata": {},
   "outputs": [
    {
     "data": {
      "text/plain": [
       "(1150, 13)"
      ]
     },
     "execution_count": 5,
     "metadata": {},
     "output_type": "execute_result"
    }
   ],
   "source": [
    "df_course.shape"
   ]
  },
  {
   "cell_type": "code",
   "execution_count": 6,
   "metadata": {},
   "outputs": [],
   "source": [
    "# lower case header names\n",
    "cols = []\n",
    "for i in range(len(df_course.columns)):\n",
    "    cols.append(df_course.columns[i].lower())\n",
    "df_course.columns = cols"
   ]
  },
  {
   "cell_type": "code",
   "execution_count": 7,
   "metadata": {},
   "outputs": [
    {
     "data": {
      "text/plain": [
       "Index(['course_id', 'course_name', 'course_language', 'location', 'duration',\n",
       "       'content', 'type', 'course_type', 'course_category', 'category_id',\n",
       "       'featured', 'tags', 'date_created'],\n",
       "      dtype='object')"
      ]
     },
     "execution_count": 7,
     "metadata": {},
     "output_type": "execute_result"
    }
   ],
   "source": [
    "df_course.columns"
   ]
  },
  {
   "cell_type": "code",
   "execution_count": 8,
   "metadata": {},
   "outputs": [],
   "source": [
    "# replacing white space in columns to NaN\n",
    "df_course.replace(r'^\\s*$', np.nan, regex=True, inplace = True)"
   ]
  },
  {
   "cell_type": "code",
   "execution_count": 9,
   "metadata": {},
   "outputs": [],
   "source": [
    "# Remove category Sandbox and Archive. Reset Index\n",
    "df_course = df_course[(df_course['category_id'] != 495) & (df_course['category_id'] != 43)]\n",
    "df_course = df_course.reset_index(drop= True)"
   ]
  },
  {
   "cell_type": "code",
   "execution_count": 10,
   "metadata": {},
   "outputs": [
    {
     "data": {
      "text/plain": [
       "course_id           int64\n",
       "course_name        object\n",
       "course_language    object\n",
       "location           object\n",
       "duration           object\n",
       "content            object\n",
       "type               object\n",
       "course_type        object\n",
       "course_category    object\n",
       "category_id         int64\n",
       "featured           object\n",
       "tags               object\n",
       "date_created       object\n",
       "dtype: object"
      ]
     },
     "execution_count": 10,
     "metadata": {},
     "output_type": "execute_result"
    }
   ],
   "source": [
    "df_course.dtypes"
   ]
  },
  {
   "cell_type": "code",
   "execution_count": 11,
   "metadata": {},
   "outputs": [],
   "source": [
    "# change dtypes for date_created (DateTime)\n",
    "df_course['date_created'] = pd.to_datetime(df_course['date_created'])"
   ]
  },
  {
   "cell_type": "code",
   "execution_count": 12,
   "metadata": {},
   "outputs": [],
   "source": [
    "# add temporary column 'Today' for calcualting the age of a course\n",
    "df_course['today'] = pd.Timestamp('2021-03-08')"
   ]
  },
  {
   "cell_type": "code",
   "execution_count": 13,
   "metadata": {},
   "outputs": [],
   "source": [
    "# adding a column 'course_age' \n",
    "df_course['course_age'] =  (df_course['today'] - df_course['date_created']).dt.days\n",
    "df_course = df_course.drop(['today', 'date_created'], axis=1)"
   ]
  },
  {
   "cell_type": "code",
   "execution_count": 14,
   "metadata": {},
   "outputs": [],
   "source": [
    "# change duration to numeric\n",
    "# first change U to 0\n",
    "df_course['duration'] = df_course['duration'].replace(['U'],0)\n",
    "# second change dtype\n",
    "df_course['duration'] = pd.to_numeric(df_course['duration'])"
   ]
  },
  {
   "cell_type": "code",
   "execution_count": 15,
   "metadata": {},
   "outputs": [
    {
     "name": "stdout",
     "output_type": "stream",
     "text": [
      "Number of Categories in: \n",
      "course_name = 876\n",
      "course_language = 7\n",
      "location = 22\n",
      "content = 337\n",
      "type = 3\n",
      "course_type = 5\n",
      "course_category = 81\n",
      "featured = 2\n",
      "tags = 101\n"
     ]
    }
   ],
   "source": [
    "# inspect categoricals columns \n",
    "print(\"Number of Categories in: \")\n",
    "for ColName in df_course.select_dtypes(include = np.object):\n",
    "    print(\"{} = {}\".format(ColName, len(df_course[ColName].unique())))"
   ]
  },
  {
   "cell_type": "code",
   "execution_count": 16,
   "metadata": {},
   "outputs": [
    {
     "data": {
      "text/plain": [
       "course_id          0.000000\n",
       "course_name        0.000000\n",
       "course_language    0.000000\n",
       "location           0.184035\n",
       "duration           0.000000\n",
       "content            0.067627\n",
       "type               0.000000\n",
       "course_type        0.186253\n",
       "course_category    0.000000\n",
       "category_id        0.000000\n",
       "featured           0.000000\n",
       "tags               0.349224\n",
       "course_age         0.000000\n",
       "dtype: float64"
      ]
     },
     "execution_count": 16,
     "metadata": {},
     "output_type": "execute_result"
    }
   ],
   "source": [
    "# check for NaNs\n",
    "df_course.isna().sum()/df_course.shape[0]"
   ]
  },
  {
   "cell_type": "code",
   "execution_count": 17,
   "metadata": {
    "scrolled": true
   },
   "outputs": [
    {
     "data": {
      "text/plain": [
       "TUN                        207\n",
       "AMD                        166\n",
       "BER                        152\n",
       "MBY                         62\n",
       "AMD, BER, MBY, MNL, TUN     54\n",
       "BER, MBY, MNL, TUN          28\n",
       "BER, TUN                    16\n",
       "AMD, MBY, MNL, TUN          13\n",
       "MNL                         12\n",
       "MBY, MNL                    10\n",
       "AMD, MNL, TUN                3\n",
       "AMD, TUN                     3\n",
       "BER, MBY, TUN                2\n",
       "BER, MBY, MNL                1\n",
       "AMD, MNL                     1\n",
       "MBY, MNL, TUN                1\n",
       "BER, MBY                     1\n",
       "AMD, BER, MBY, TUN           1\n",
       "BER, MNL                     1\n",
       "BER, MNL, TUN                1\n",
       "AMD, MBY                     1\n",
       "Name: location, dtype: int64"
      ]
     },
     "execution_count": 17,
     "metadata": {},
     "output_type": "execute_result"
    }
   ],
   "source": [
    "# cleaning location\n",
    "df_course['location'].value_counts()"
   ]
  },
  {
   "cell_type": "code",
   "execution_count": 18,
   "metadata": {},
   "outputs": [],
   "source": [
    "# replacing NaN's where the language is German with 'BER'\n",
    "df_course.loc[(df_course.course_language == 'German') & (df_course.location.isna() == True), 'location'] = 'BER'\n",
    "# replacing NaN's where the language is French with 'TUN'\n",
    "df_course.loc[(df_course.course_language == 'French') & (df_course.location.isna() == True), 'location'] = 'TUN'"
   ]
  },
  {
   "cell_type": "code",
   "execution_count": 19,
   "metadata": {},
   "outputs": [],
   "source": [
    "# still 157 left - remaning will be replaced with 'Unknown'\n",
    "df_course['location'].isna().sum()\n",
    "df_course['location'] = df_course['location'].fillna('Unknown_Location')"
   ]
  },
  {
   "cell_type": "code",
   "execution_count": 20,
   "metadata": {},
   "outputs": [
    {
     "data": {
      "text/plain": [
       "Classroom Training     280\n",
       "Self-paced Learning    227\n",
       "Blended Learning       122\n",
       "Micro Learning         105\n",
       "Name: course_type, dtype: int64"
      ]
     },
     "execution_count": 20,
     "metadata": {},
     "output_type": "execute_result"
    }
   ],
   "source": [
    "# cleaning course_type\n",
    "df_course['course_type'].value_counts()"
   ]
  },
  {
   "cell_type": "code",
   "execution_count": 21,
   "metadata": {},
   "outputs": [],
   "source": [
    "# replacing NaNs in 'course_type' where 'type' is 'Classrrom Training' with 'Classroom Training'\n",
    "df_course.loc[(df_course.type == 'Classrrom Training') & (df_course.course_type.isna() == True), 'course_type'] = 'Classroom Training'"
   ]
  },
  {
   "cell_type": "code",
   "execution_count": 22,
   "metadata": {},
   "outputs": [],
   "source": [
    "# replacing NaNs in 'course_type' where 'type' is 'E-Learning' with 'Self-paced Learning'\n",
    "df_course.loc[(df_course.type == 'E-Learning') & (df_course.course_type.isna() == True), 'course_type'] = 'Self-paced Learning' "
   ]
  },
  {
   "cell_type": "code",
   "execution_count": 23,
   "metadata": {},
   "outputs": [],
   "source": [
    "# replacing NaNs in 'course_type' where 'type' is 'E-Learning' with 'Self-paced Learning'\n",
    "df_course.loc[(df_course.type == 'Blended') & (df_course.course_type.isna() == True), 'course_type'] = 'Blended Learning' "
   ]
  },
  {
   "cell_type": "code",
   "execution_count": 24,
   "metadata": {},
   "outputs": [],
   "source": [
    "# filling the NaNs in column 'tags' with 'unknown_tags'\n",
    "df_course['tags'] = df_course['tags'].fillna('unknown_tags')"
   ]
  },
  {
   "cell_type": "code",
   "execution_count": 25,
   "metadata": {},
   "outputs": [],
   "source": [
    "# filling the NaNs in column 'content' with 'Unknown'\n",
    "df_course['content'] = df_course['content'].fillna('unknown_content')"
   ]
  },
  {
   "cell_type": "code",
   "execution_count": 26,
   "metadata": {},
   "outputs": [
    {
     "data": {
      "text/plain": [
       "File                                                       73\n",
       "unknown_content                                            61\n",
       "Quiz                                                       37\n",
       "File, Seminar, URL                                         35\n",
       "File, Seminar                                              23\n",
       "                                                           ..\n",
       "Book, File, Folder, Forum, Glossary, Page, Seminar, URL     1\n",
       "Assignment, Feedback, File, H5P, URL                        1\n",
       "Assignment, Feedback, File, Folder, Seminar                 1\n",
       "Assignment, Feedback, File, Forum, Quiz, Seminar, URL       1\n",
       "Assignment, Feedback, File, Folder, Seminar, URL            1\n",
       "Name: content, Length: 337, dtype: int64"
      ]
     },
     "execution_count": 26,
     "metadata": {},
     "output_type": "execute_result"
    }
   ],
   "source": [
    "df_course['content'].value_counts()"
   ]
  },
  {
   "cell_type": "code",
   "execution_count": null,
   "metadata": {},
   "outputs": [],
   "source": [
    "# saving file for analysis in Teableau\n",
    "dfTableau_p1 = df_course"
   ]
  },
  {
   "cell_type": "code",
   "execution_count": null,
   "metadata": {},
   "outputs": [],
   "source": [
    "#content_split = df_course['content'].str.split(',', expand = True).rename(columns = lambda x: \"cont\"+str(x+1))"
   ]
  },
  {
   "cell_type": "code",
   "execution_count": null,
   "metadata": {},
   "outputs": [],
   "source": [
    "#content_split"
   ]
  },
  {
   "cell_type": "code",
   "execution_count": null,
   "metadata": {},
   "outputs": [],
   "source": [
    "#conent_vals = ['Assignment', 'Attendance', 'Book', 'Certificate', 'Chat', 'Choice', 'Database', 'Feedback', 'File', 'Folder', 'Forum', 'Glossary', 'H5P', 'Label', 'Lesson', 'Page', 'Quiz', 'SCORM package', 'Seminar', 'Survey', 'Tin Can Launch Link', 'URL', 'WebEx Meeting', 'Wiki', 'Workshop']\n",
    "#Course_activities = ['Assignment', 'Certificate', 'Chat', 'Choice', 'Database', 'Feedback', 'Forum', 'Lesson', 'Quiz', 'SCORM package', 'Seminar', 'Survey', 'Wiki', 'Workshop']\n",
    "#Course_resources = ['Book', 'File', 'Folder', 'Glossary', 'Label', 'Page', 'URL',]\n",
    "#Course_others = ['Attendance', 'HP5', 'Tin Can Launch Link', 'WebEx Meeting']\n",
    "#Course_unknown = ['Unknown']\n",
    "\n",
    "\n",
    "#courses_act = '|'.join(Course_activities)\n",
    "#df_course[df_course['content'].str.contains(courses_act)]['content']"
   ]
  },
  {
   "cell_type": "code",
   "execution_count": 27,
   "metadata": {},
   "outputs": [],
   "source": [
    "# cutting column 'content' into multiple features\n",
    "df_temp = pd.concat([df_course.drop('content', 1), df_course['content'].str.get_dummies(sep=\",\")], 1)"
   ]
  },
  {
   "cell_type": "code",
   "execution_count": 28,
   "metadata": {},
   "outputs": [],
   "source": [
    "# cutting column 'tags' into multiple features\n",
    "df_course = pd.concat([df_temp.drop('tags', 1), df_temp['tags'].str.get_dummies(sep=\",\")], 1)"
   ]
  },
  {
   "cell_type": "code",
   "execution_count": 29,
   "metadata": {},
   "outputs": [],
   "source": [
    "# cutting column 'course_language' into multiple features\n",
    "df_course = pd.concat([df_course.drop('course_language', 1), df_course['course_language'].str.get_dummies(sep=\",\")], 1)"
   ]
  },
  {
   "cell_type": "code",
   "execution_count": 30,
   "metadata": {},
   "outputs": [],
   "source": [
    "# label encoding for column featured\n",
    "df_course['featured'] = df_course['featured'].map({'Yes' : 1, 'No' : 0})"
   ]
  },
  {
   "cell_type": "code",
   "execution_count": 31,
   "metadata": {},
   "outputs": [],
   "source": [
    "# cutting column 'lcoation' into multiple features\n",
    "# df_course = pd.concat([df_course.drop('location', 1), df_course['location'].str.get_dummies(sep=\",\")], 1)"
   ]
  },
  {
   "cell_type": "code",
   "execution_count": 32,
   "metadata": {},
   "outputs": [],
   "source": [
    "df_course.columns = [col.replace(\" \", \"_\").lower() for col in df_course.columns]"
   ]
  },
  {
   "cell_type": "code",
   "execution_count": 33,
   "metadata": {},
   "outputs": [
    {
     "data": {
      "text/plain": [
       "Index(['course_id', 'course_name', 'location', 'duration', 'type',\n",
       "       'course_type', 'course_category', 'category_id', 'featured',\n",
       "       'course_age',\n",
       "       ...\n",
       "       'tools', 'unknown_tags', 'video', 'website', '_french', '_german',\n",
       "       'english', 'french', 'german', 'unknown'],\n",
       "      dtype='object', length=105)"
      ]
     },
     "execution_count": 33,
     "metadata": {},
     "output_type": "execute_result"
    }
   ],
   "source": [
    "df_course.columns"
   ]
  },
  {
   "cell_type": "code",
   "execution_count": 34,
   "metadata": {},
   "outputs": [],
   "source": [
    "# rename column 'unknown' to 'unknown_language'\n",
    "df_course['unknown_language'] = df_course['unknown']\n",
    "df_course = df_course.drop(['unknown'], axis=1)"
   ]
  },
  {
   "cell_type": "code",
   "execution_count": 35,
   "metadata": {},
   "outputs": [],
   "source": [
    "#df_course.head(2)"
   ]
  },
  {
   "cell_type": "code",
   "execution_count": 36,
   "metadata": {},
   "outputs": [
    {
     "data": {
      "text/plain": [
       "course_id           0\n",
       "course_name         0\n",
       "location            0\n",
       "duration            0\n",
       "type                0\n",
       "                   ..\n",
       "_german             0\n",
       "english             0\n",
       "french              0\n",
       "german              0\n",
       "unknown_language    0\n",
       "Length: 105, dtype: int64"
      ]
     },
     "execution_count": 36,
     "metadata": {},
     "output_type": "execute_result"
    }
   ],
   "source": [
    "df_course.isna().sum()"
   ]
  },
  {
   "cell_type": "code",
   "execution_count": 37,
   "metadata": {},
   "outputs": [
    {
     "data": {
      "text/html": [
       "<div>\n",
       "<style scoped>\n",
       "    .dataframe tbody tr th:only-of-type {\n",
       "        vertical-align: middle;\n",
       "    }\n",
       "\n",
       "    .dataframe tbody tr th {\n",
       "        vertical-align: top;\n",
       "    }\n",
       "\n",
       "    .dataframe thead th {\n",
       "        text-align: right;\n",
       "    }\n",
       "</style>\n",
       "<table border=\"1\" class=\"dataframe\">\n",
       "  <thead>\n",
       "    <tr style=\"text-align: right;\">\n",
       "      <th></th>\n",
       "      <th>completion_count</th>\n",
       "      <th>course_id</th>\n",
       "    </tr>\n",
       "  </thead>\n",
       "  <tbody>\n",
       "    <tr>\n",
       "      <th>0</th>\n",
       "      <td>985</td>\n",
       "      <td>866</td>\n",
       "    </tr>\n",
       "    <tr>\n",
       "      <th>1</th>\n",
       "      <td>965</td>\n",
       "      <td>386</td>\n",
       "    </tr>\n",
       "    <tr>\n",
       "      <th>2</th>\n",
       "      <td>882</td>\n",
       "      <td>165</td>\n",
       "    </tr>\n",
       "    <tr>\n",
       "      <th>3</th>\n",
       "      <td>769</td>\n",
       "      <td>189</td>\n",
       "    </tr>\n",
       "    <tr>\n",
       "      <th>4</th>\n",
       "      <td>684</td>\n",
       "      <td>1175</td>\n",
       "    </tr>\n",
       "    <tr>\n",
       "      <th>...</th>\n",
       "      <td>...</td>\n",
       "      <td>...</td>\n",
       "    </tr>\n",
       "    <tr>\n",
       "      <th>465</th>\n",
       "      <td>1</td>\n",
       "      <td>293</td>\n",
       "    </tr>\n",
       "    <tr>\n",
       "      <th>466</th>\n",
       "      <td>1</td>\n",
       "      <td>819</td>\n",
       "    </tr>\n",
       "    <tr>\n",
       "      <th>467</th>\n",
       "      <td>1</td>\n",
       "      <td>1161</td>\n",
       "    </tr>\n",
       "    <tr>\n",
       "      <th>468</th>\n",
       "      <td>1</td>\n",
       "      <td>822</td>\n",
       "    </tr>\n",
       "    <tr>\n",
       "      <th>469</th>\n",
       "      <td>1</td>\n",
       "      <td>1047</td>\n",
       "    </tr>\n",
       "  </tbody>\n",
       "</table>\n",
       "<p>470 rows × 2 columns</p>\n",
       "</div>"
      ],
      "text/plain": [
       "     completion_count  course_id\n",
       "0                 985        866\n",
       "1                 965        386\n",
       "2                 882        165\n",
       "3                 769        189\n",
       "4                 684       1175\n",
       "..                ...        ...\n",
       "465                 1        293\n",
       "466                 1        819\n",
       "467                 1       1161\n",
       "468                 1        822\n",
       "469                 1       1047\n",
       "\n",
       "[470 rows x 2 columns]"
      ]
     },
     "execution_count": 37,
     "metadata": {},
     "output_type": "execute_result"
    }
   ],
   "source": [
    "#load file with completion count\n",
    "df_compl = pd.read_sql_query('SELECT * FROM compl_count', engine)\n",
    "df_compl"
   ]
  },
  {
   "cell_type": "code",
   "execution_count": 41,
   "metadata": {},
   "outputs": [],
   "source": [
    "# creating a data set with completion count to analyis in Tableau\n",
    "# dfTableau = pd.merge(df_compl, dfTableau_p1, on=\"course_id\", how='outer')\n",
    "# dfTableau['completion_count'] = dfTableau['completion_count'].fillna(0)\n",
    "# chage type float to int\n",
    "# dfTableau['completion_count'] = dfTableau['completion_count'].astype(np.int64)\n",
    "# dfTableau.to_csv(r'/users/mzimmermann/ironhack/CLZ/Tableau/dfTableau.csv', index = False)"
   ]
  },
  {
   "cell_type": "code",
   "execution_count": 42,
   "metadata": {},
   "outputs": [],
   "source": [
    "# merge dataframes with OUTER join -> for no values it will give a NaN\n",
    "df_merged = pd.merge(df_compl, df_course, on=\"course_id\", how='outer')"
   ]
  },
  {
   "cell_type": "code",
   "execution_count": 43,
   "metadata": {},
   "outputs": [
    {
     "data": {
      "text/html": [
       "<div>\n",
       "<style scoped>\n",
       "    .dataframe tbody tr th:only-of-type {\n",
       "        vertical-align: middle;\n",
       "    }\n",
       "\n",
       "    .dataframe tbody tr th {\n",
       "        vertical-align: top;\n",
       "    }\n",
       "\n",
       "    .dataframe thead th {\n",
       "        text-align: right;\n",
       "    }\n",
       "</style>\n",
       "<table border=\"1\" class=\"dataframe\">\n",
       "  <thead>\n",
       "    <tr style=\"text-align: right;\">\n",
       "      <th></th>\n",
       "      <th>course_id</th>\n",
       "      <th>course_name</th>\n",
       "      <th>location</th>\n",
       "      <th>duration</th>\n",
       "      <th>type</th>\n",
       "      <th>course_type</th>\n",
       "      <th>course_category</th>\n",
       "      <th>category_id</th>\n",
       "      <th>featured</th>\n",
       "      <th>course_age</th>\n",
       "      <th>_attendance</th>\n",
       "      <th>_book</th>\n",
       "      <th>_certificate</th>\n",
       "      <th>_chat</th>\n",
       "      <th>_choice</th>\n",
       "      <th>_database</th>\n",
       "      <th>_feedback</th>\n",
       "      <th>_file</th>\n",
       "      <th>_folder</th>\n",
       "      <th>_forum</th>\n",
       "      <th>_game</th>\n",
       "      <th>_glossary</th>\n",
       "      <th>_h5p</th>\n",
       "      <th>_label</th>\n",
       "      <th>_lesson</th>\n",
       "      <th>_page</th>\n",
       "      <th>_quiz</th>\n",
       "      <th>_scorm_package</th>\n",
       "      <th>_seminar</th>\n",
       "      <th>_survey</th>\n",
       "      <th>_tin_can_launch_link</th>\n",
       "      <th>_url</th>\n",
       "      <th>_webex_meeting</th>\n",
       "      <th>_wiki</th>\n",
       "      <th>_workshop</th>\n",
       "      <th>assignment</th>\n",
       "      <th>attendance</th>\n",
       "      <th>book</th>\n",
       "      <th>certificate</th>\n",
       "      <th>chat</th>\n",
       "      <th>choice</th>\n",
       "      <th>feedback</th>\n",
       "      <th>file</th>\n",
       "      <th>folder</th>\n",
       "      <th>forum</th>\n",
       "      <th>h5p</th>\n",
       "      <th>label</th>\n",
       "      <th>lesson</th>\n",
       "      <th>page</th>\n",
       "      <th>quiz</th>\n",
       "      <th>scorm_package</th>\n",
       "      <th>seminar</th>\n",
       "      <th>url</th>\n",
       "      <th>unknown_content</th>\n",
       "      <th>_agile</th>\n",
       "      <th>_cco</th>\n",
       "      <th>_cdo</th>\n",
       "      <th>_chat</th>\n",
       "      <th>_design</th>\n",
       "      <th>_digital</th>\n",
       "      <th>_email</th>\n",
       "      <th>_facilitation</th>\n",
       "      <th>_gso</th>\n",
       "      <th>_hpt</th>\n",
       "      <th>_leadership</th>\n",
       "      <th>_marketing</th>\n",
       "      <th>_mentorship</th>\n",
       "      <th>_onboarding</th>\n",
       "      <th>_payment</th>\n",
       "      <th>_phone</th>\n",
       "      <th>_photobook</th>\n",
       "      <th>_product</th>\n",
       "      <th>_promotique</th>\n",
       "      <th>_soft-skills</th>\n",
       "      <th>_tools</th>\n",
       "      <th>_website</th>\n",
       "      <th>agile</th>\n",
       "      <th>cco</th>\n",
       "      <th>cdo</th>\n",
       "      <th>design</th>\n",
       "      <th>digital</th>\n",
       "      <th>facilitation</th>\n",
       "      <th>feedback</th>\n",
       "      <th>gso</th>\n",
       "      <th>hpt</th>\n",
       "      <th>leadership</th>\n",
       "      <th>marketing</th>\n",
       "      <th>mentorship</th>\n",
       "      <th>onboarding</th>\n",
       "      <th>payment</th>\n",
       "      <th>product</th>\n",
       "      <th>promotique</th>\n",
       "      <th>shipping</th>\n",
       "      <th>soap</th>\n",
       "      <th>soft-skills</th>\n",
       "      <th>tools</th>\n",
       "      <th>unknown_tags</th>\n",
       "      <th>video</th>\n",
       "      <th>website</th>\n",
       "      <th>_french</th>\n",
       "      <th>_german</th>\n",
       "      <th>english</th>\n",
       "      <th>french</th>\n",
       "      <th>german</th>\n",
       "      <th>unknown_language</th>\n",
       "    </tr>\n",
       "  </thead>\n",
       "  <tbody>\n",
       "  </tbody>\n",
       "</table>\n",
       "</div>"
      ],
      "text/plain": [
       "Empty DataFrame\n",
       "Columns: [course_id, course_name, location, duration, type, course_type, course_category, category_id, featured, course_age, _attendance, _book, _certificate, _chat, _choice, _database, _feedback, _file, _folder, _forum, _game, _glossary, _h5p, _label, _lesson, _page, _quiz, _scorm_package, _seminar, _survey, _tin_can_launch_link, _url, _webex_meeting, _wiki, _workshop, assignment, attendance, book, certificate, chat, choice, feedback, file, folder, forum, h5p, label, lesson, page, quiz, scorm_package, seminar, url, unknown_content, _agile, _cco, _cdo, _chat, _design, _digital, _email, _facilitation, _gso, _hpt, _leadership, _marketing, _mentorship, _onboarding, _payment, _phone, _photobook, _product, _promotique, _soft-skills, _tools, _website, agile, cco, cdo, design, digital, facilitation, feedback, gso, hpt, leadership, marketing, mentorship, onboarding, payment, product, promotique, shipping, soap, soft-skills, tools, unknown_tags, video, website, _french, ...]\n",
       "Index: []"
      ]
     },
     "execution_count": 43,
     "metadata": {},
     "output_type": "execute_result"
    }
   ],
   "source": [
    "df_course[df_course['course_id'] == 814]"
   ]
  },
  {
   "cell_type": "code",
   "execution_count": 44,
   "metadata": {},
   "outputs": [],
   "source": [
    "# replace NaN with 0\n",
    "df_merged['completion_count'] = df_merged['completion_count'].fillna(0)\n",
    "# chage type float to int\n",
    "df_merged['completion_count'] = df_merged['completion_count'].astype(np.int64)"
   ]
  },
  {
   "cell_type": "code",
   "execution_count": 45,
   "metadata": {},
   "outputs": [
    {
     "data": {
      "text/html": [
       "<div>\n",
       "<style scoped>\n",
       "    .dataframe tbody tr th:only-of-type {\n",
       "        vertical-align: middle;\n",
       "    }\n",
       "\n",
       "    .dataframe tbody tr th {\n",
       "        vertical-align: top;\n",
       "    }\n",
       "\n",
       "    .dataframe thead th {\n",
       "        text-align: right;\n",
       "    }\n",
       "</style>\n",
       "<table border=\"1\" class=\"dataframe\">\n",
       "  <thead>\n",
       "    <tr style=\"text-align: right;\">\n",
       "      <th></th>\n",
       "      <th>completion_count</th>\n",
       "      <th>course_id</th>\n",
       "      <th>duration</th>\n",
       "      <th>course_type</th>\n",
       "      <th>course_category</th>\n",
       "      <th>featured</th>\n",
       "      <th>course_age</th>\n",
       "      <th>_attendance</th>\n",
       "      <th>_book</th>\n",
       "      <th>_certificate</th>\n",
       "      <th>_chat</th>\n",
       "      <th>_choice</th>\n",
       "      <th>_database</th>\n",
       "      <th>_feedback</th>\n",
       "      <th>_file</th>\n",
       "      <th>_folder</th>\n",
       "      <th>_forum</th>\n",
       "      <th>_game</th>\n",
       "      <th>_glossary</th>\n",
       "      <th>_h5p</th>\n",
       "      <th>_label</th>\n",
       "      <th>_lesson</th>\n",
       "      <th>_page</th>\n",
       "      <th>_quiz</th>\n",
       "      <th>_scorm_package</th>\n",
       "      <th>_seminar</th>\n",
       "      <th>_survey</th>\n",
       "      <th>_tin_can_launch_link</th>\n",
       "      <th>_url</th>\n",
       "      <th>_webex_meeting</th>\n",
       "      <th>_wiki</th>\n",
       "      <th>_workshop</th>\n",
       "      <th>assignment</th>\n",
       "      <th>attendance</th>\n",
       "      <th>book</th>\n",
       "      <th>certificate</th>\n",
       "      <th>chat</th>\n",
       "      <th>choice</th>\n",
       "      <th>feedback</th>\n",
       "      <th>file</th>\n",
       "      <th>folder</th>\n",
       "      <th>forum</th>\n",
       "      <th>h5p</th>\n",
       "      <th>label</th>\n",
       "      <th>lesson</th>\n",
       "      <th>page</th>\n",
       "      <th>quiz</th>\n",
       "      <th>scorm_package</th>\n",
       "      <th>seminar</th>\n",
       "      <th>url</th>\n",
       "      <th>unknown_content</th>\n",
       "      <th>_agile</th>\n",
       "      <th>_cco</th>\n",
       "      <th>_cdo</th>\n",
       "      <th>_chat</th>\n",
       "      <th>_design</th>\n",
       "      <th>_digital</th>\n",
       "      <th>_email</th>\n",
       "      <th>_facilitation</th>\n",
       "      <th>_gso</th>\n",
       "      <th>_hpt</th>\n",
       "      <th>_leadership</th>\n",
       "      <th>_marketing</th>\n",
       "      <th>_mentorship</th>\n",
       "      <th>_onboarding</th>\n",
       "      <th>_payment</th>\n",
       "      <th>_phone</th>\n",
       "      <th>_photobook</th>\n",
       "      <th>_product</th>\n",
       "      <th>_promotique</th>\n",
       "      <th>_soft-skills</th>\n",
       "      <th>_tools</th>\n",
       "      <th>_website</th>\n",
       "      <th>agile</th>\n",
       "      <th>cco</th>\n",
       "      <th>cdo</th>\n",
       "      <th>design</th>\n",
       "      <th>digital</th>\n",
       "      <th>facilitation</th>\n",
       "      <th>feedback</th>\n",
       "      <th>gso</th>\n",
       "      <th>hpt</th>\n",
       "      <th>leadership</th>\n",
       "      <th>marketing</th>\n",
       "      <th>mentorship</th>\n",
       "      <th>onboarding</th>\n",
       "      <th>payment</th>\n",
       "      <th>product</th>\n",
       "      <th>promotique</th>\n",
       "      <th>shipping</th>\n",
       "      <th>soap</th>\n",
       "      <th>soft-skills</th>\n",
       "      <th>tools</th>\n",
       "      <th>unknown_tags</th>\n",
       "      <th>video</th>\n",
       "      <th>website</th>\n",
       "      <th>_french</th>\n",
       "      <th>_german</th>\n",
       "      <th>english</th>\n",
       "      <th>french</th>\n",
       "      <th>german</th>\n",
       "      <th>unknown_language</th>\n",
       "    </tr>\n",
       "  </thead>\n",
       "  <tbody>\n",
       "    <tr>\n",
       "      <th>0</th>\n",
       "      <td>985</td>\n",
       "      <td>866</td>\n",
       "      <td>1.25</td>\n",
       "      <td>Classroom Training</td>\n",
       "      <td>CARE Department</td>\n",
       "      <td>0</td>\n",
       "      <td>713</td>\n",
       "      <td>0</td>\n",
       "      <td>0</td>\n",
       "      <td>0</td>\n",
       "      <td>0</td>\n",
       "      <td>0</td>\n",
       "      <td>0</td>\n",
       "      <td>0</td>\n",
       "      <td>0</td>\n",
       "      <td>0</td>\n",
       "      <td>0</td>\n",
       "      <td>0</td>\n",
       "      <td>0</td>\n",
       "      <td>0</td>\n",
       "      <td>0</td>\n",
       "      <td>0</td>\n",
       "      <td>0</td>\n",
       "      <td>0</td>\n",
       "      <td>0</td>\n",
       "      <td>0</td>\n",
       "      <td>0</td>\n",
       "      <td>0</td>\n",
       "      <td>0</td>\n",
       "      <td>0</td>\n",
       "      <td>0</td>\n",
       "      <td>0</td>\n",
       "      <td>0</td>\n",
       "      <td>0</td>\n",
       "      <td>0</td>\n",
       "      <td>0</td>\n",
       "      <td>0</td>\n",
       "      <td>0</td>\n",
       "      <td>0</td>\n",
       "      <td>0</td>\n",
       "      <td>0</td>\n",
       "      <td>0</td>\n",
       "      <td>0</td>\n",
       "      <td>0</td>\n",
       "      <td>0</td>\n",
       "      <td>0</td>\n",
       "      <td>0</td>\n",
       "      <td>0</td>\n",
       "      <td>1</td>\n",
       "      <td>0</td>\n",
       "      <td>0</td>\n",
       "      <td>0</td>\n",
       "      <td>1</td>\n",
       "      <td>0</td>\n",
       "      <td>0</td>\n",
       "      <td>0</td>\n",
       "      <td>0</td>\n",
       "      <td>0</td>\n",
       "      <td>0</td>\n",
       "      <td>0</td>\n",
       "      <td>0</td>\n",
       "      <td>0</td>\n",
       "      <td>0</td>\n",
       "      <td>0</td>\n",
       "      <td>0</td>\n",
       "      <td>0</td>\n",
       "      <td>0</td>\n",
       "      <td>0</td>\n",
       "      <td>0</td>\n",
       "      <td>0</td>\n",
       "      <td>0</td>\n",
       "      <td>1</td>\n",
       "      <td>0</td>\n",
       "      <td>0</td>\n",
       "      <td>0</td>\n",
       "      <td>0</td>\n",
       "      <td>1</td>\n",
       "      <td>0</td>\n",
       "      <td>0</td>\n",
       "      <td>0</td>\n",
       "      <td>0</td>\n",
       "      <td>0</td>\n",
       "      <td>0</td>\n",
       "      <td>0</td>\n",
       "      <td>0</td>\n",
       "      <td>0</td>\n",
       "      <td>0</td>\n",
       "      <td>0</td>\n",
       "      <td>0</td>\n",
       "      <td>0</td>\n",
       "      <td>0</td>\n",
       "      <td>0</td>\n",
       "      <td>0</td>\n",
       "      <td>0</td>\n",
       "      <td>0</td>\n",
       "      <td>0</td>\n",
       "      <td>0</td>\n",
       "      <td>0</td>\n",
       "      <td>1</td>\n",
       "      <td>0</td>\n",
       "      <td>0</td>\n",
       "      <td>0</td>\n",
       "    </tr>\n",
       "  </tbody>\n",
       "</table>\n",
       "</div>"
      ],
      "text/plain": [
       "   completion_count  course_id  duration         course_type  course_category  \\\n",
       "0               985        866      1.25  Classroom Training  CARE Department   \n",
       "\n",
       "   featured  course_age  _attendance  _book  _certificate  _chat  _choice  \\\n",
       "0         0         713            0      0             0      0        0   \n",
       "\n",
       "   _database  _feedback  _file  _folder  _forum  _game  _glossary  _h5p  \\\n",
       "0          0          0      0        0       0      0          0     0   \n",
       "\n",
       "   _label  _lesson  _page  _quiz  _scorm_package  _seminar  _survey  \\\n",
       "0       0        0      0      0               0         0        0   \n",
       "\n",
       "   _tin_can_launch_link  _url  _webex_meeting  _wiki  _workshop  assignment  \\\n",
       "0                     0     0               0      0          0           0   \n",
       "\n",
       "   attendance  book  certificate  chat  choice  feedback  file  folder  forum  \\\n",
       "0           0     0            0     0       0         0     0       0      0   \n",
       "\n",
       "   h5p  label  lesson  page  quiz  scorm_package  seminar  url  \\\n",
       "0    0      0       0     0     0              0        1    0   \n",
       "\n",
       "   unknown_content  _agile  _cco  _cdo  _chat  _design  _digital  _email  \\\n",
       "0                0       0     1     0      0        0         0       0   \n",
       "\n",
       "   _facilitation  _gso  _hpt  _leadership  _marketing  _mentorship  \\\n",
       "0              0     0     0            0           0            0   \n",
       "\n",
       "   _onboarding  _payment  _phone  _photobook  _product  _promotique  \\\n",
       "0            0         0       0           0         0            0   \n",
       "\n",
       "   _soft-skills  _tools  _website  agile  cco  cdo  design  digital  \\\n",
       "0             0       1         0      0    0    0       1        0   \n",
       "\n",
       "   facilitation  feedback  gso  hpt  leadership  marketing  mentorship  \\\n",
       "0             0         0    0    0           0          0           0   \n",
       "\n",
       "   onboarding  payment  product  promotique  shipping  soap  soft-skills  \\\n",
       "0           0        0        0           0         0     0            0   \n",
       "\n",
       "   tools  unknown_tags  video  website  _french  _german  english  french  \\\n",
       "0      0             0      0        0        0        0        1       0   \n",
       "\n",
       "   german  unknown_language  \n",
       "0       0                 0  "
      ]
     },
     "execution_count": 45,
     "metadata": {},
     "output_type": "execute_result"
    }
   ],
   "source": [
    "# drop irrelevant columns\n",
    "data = df_merged.drop(['location','type', 'category_id', 'course_name'], axis=1)\n",
    "data.head(1)"
   ]
  },
  {
   "cell_type": "code",
   "execution_count": 46,
   "metadata": {},
   "outputs": [
    {
     "data": {
      "text/plain": [
       "(902, 102)"
      ]
     },
     "execution_count": 46,
     "metadata": {},
     "output_type": "execute_result"
    }
   ],
   "source": [
    "data.shape"
   ]
  },
  {
   "cell_type": "code",
   "execution_count": 47,
   "metadata": {},
   "outputs": [],
   "source": [
    "data.to_csv(r'/users/mzimmermann/ironhack/CLZ/cleaned_files/data.csv', index = False)"
   ]
  },
  {
   "cell_type": "code",
   "execution_count": null,
   "metadata": {},
   "outputs": [],
   "source": [
    "# loading file where courses are reviewed\n",
    "df_reviewed = pd.read_excel('CLZ_BER_Courses_OS.xlsx').drop('course_name', axis=1)"
   ]
  },
  {
   "cell_type": "code",
   "execution_count": null,
   "metadata": {},
   "outputs": [],
   "source": [
    "# merge data with df_reviewed\n",
    "data_revd = pd.merge(data, df_reviewed, on=\"course_id\")\n",
    "data_revd"
   ]
  },
  {
   "cell_type": "code",
   "execution_count": null,
   "metadata": {},
   "outputs": [],
   "source": [
    "data_revd.to_csv(r'/users/mzimmermann/ironhack/CLZ/cleaned_files/data_revd.csv', index = False)"
   ]
  },
  {
   "cell_type": "code",
   "execution_count": null,
   "metadata": {},
   "outputs": [],
   "source": [
    "data_revd['keep'].value_counts()"
   ]
  }
 ],
 "metadata": {
  "kernelspec": {
   "display_name": "Python 3",
   "language": "python",
   "name": "python3"
  },
  "language_info": {
   "codemirror_mode": {
    "name": "ipython",
    "version": 3
   },
   "file_extension": ".py",
   "mimetype": "text/x-python",
   "name": "python",
   "nbconvert_exporter": "python",
   "pygments_lexer": "ipython3",
   "version": "3.8.5"
  }
 },
 "nbformat": 4,
 "nbformat_minor": 4
}
